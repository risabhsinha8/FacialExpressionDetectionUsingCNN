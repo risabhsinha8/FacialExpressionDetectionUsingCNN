{
  "cells": [
    {
      "cell_type": "code",
      "execution_count": null,
      "metadata": {
        "colab": {
          "base_uri": "https://localhost:8080/"
        },
        "id": "18DJvzNJqE9j",
        "outputId": "d595a6e8-921e-4661-9733-c51f9d99a5bc"
      },
      "outputs": [
        {
          "output_type": "stream",
          "name": "stdout",
          "text": [
            "Drive already mounted at /content/drive; to attempt to forcibly remount, call drive.mount(\"/content/drive\", force_remount=True).\n"
          ]
        }
      ],
      "source": [
        "from google.colab import drive\n",
        "drive.mount('/content/drive')"
      ]
    },
    {
      "cell_type": "code",
      "execution_count": null,
      "metadata": {
        "colab": {
          "base_uri": "https://localhost:8080/",
          "height": 206
        },
        "id": "bs39T8vHQ9Vy",
        "outputId": "1cd67a34-d4ba-46a2-d0d7-27b651f857a5"
      },
      "outputs": [
        {
          "output_type": "execute_result",
          "data": {
            "text/html": [
              "<div>\n",
              "<style scoped>\n",
              "    .dataframe tbody tr th:only-of-type {\n",
              "        vertical-align: middle;\n",
              "    }\n",
              "\n",
              "    .dataframe tbody tr th {\n",
              "        vertical-align: top;\n",
              "    }\n",
              "\n",
              "    .dataframe thead th {\n",
              "        text-align: right;\n",
              "    }\n",
              "</style>\n",
              "<table border=\"1\" class=\"dataframe\">\n",
              "  <thead>\n",
              "    <tr style=\"text-align: right;\">\n",
              "      <th></th>\n",
              "      <th>emotion</th>\n",
              "      <th>pixels</th>\n",
              "      <th>Usage</th>\n",
              "    </tr>\n",
              "  </thead>\n",
              "  <tbody>\n",
              "    <tr>\n",
              "      <th>0</th>\n",
              "      <td>0</td>\n",
              "      <td>70 80 82 72 58 58 60 63 54 58 60 48 89 115 121...</td>\n",
              "      <td>Training</td>\n",
              "    </tr>\n",
              "    <tr>\n",
              "      <th>1</th>\n",
              "      <td>0</td>\n",
              "      <td>151 150 147 155 148 133 111 140 170 174 182 15...</td>\n",
              "      <td>Training</td>\n",
              "    </tr>\n",
              "    <tr>\n",
              "      <th>2</th>\n",
              "      <td>2</td>\n",
              "      <td>231 212 156 164 174 138 161 173 182 200 106 38...</td>\n",
              "      <td>Training</td>\n",
              "    </tr>\n",
              "    <tr>\n",
              "      <th>3</th>\n",
              "      <td>4</td>\n",
              "      <td>24 32 36 30 32 23 19 20 30 41 21 22 32 34 21 1...</td>\n",
              "      <td>Training</td>\n",
              "    </tr>\n",
              "    <tr>\n",
              "      <th>4</th>\n",
              "      <td>6</td>\n",
              "      <td>4 0 0 0 0 0 0 0 0 0 0 0 3 15 23 28 48 50 58 84...</td>\n",
              "      <td>Training</td>\n",
              "    </tr>\n",
              "  </tbody>\n",
              "</table>\n",
              "</div>"
            ],
            "text/plain": [
              "   emotion                                             pixels     Usage\n",
              "0        0  70 80 82 72 58 58 60 63 54 58 60 48 89 115 121...  Training\n",
              "1        0  151 150 147 155 148 133 111 140 170 174 182 15...  Training\n",
              "2        2  231 212 156 164 174 138 161 173 182 200 106 38...  Training\n",
              "3        4  24 32 36 30 32 23 19 20 30 41 21 22 32 34 21 1...  Training\n",
              "4        6  4 0 0 0 0 0 0 0 0 0 0 0 3 15 23 28 48 50 58 84...  Training"
            ]
          },
          "metadata": {},
          "execution_count": 2
        }
      ],
      "source": [
        "from sklearn.metrics import accuracy_score,confusion_matrix,f1_score,classification_report\n",
        "from mlxtend.plotting import plot_confusion_matrix \n",
        "from numpy import expand_dims\n",
        "from keras.preprocessing.image import ImageDataGenerator\n",
        "import pandas as pd\n",
        "import numpy as np\n",
        "from random import shuffle\n",
        "from keras.utils import np_utils\n",
        "from sklearn.model_selection import train_test_split\n",
        "import tensorflow as tf\n",
        "from tensorflow import keras\n",
        "from tensorflow.keras.layers import Dense,Conv2D,MaxPooling2D,Flatten,Dropout,BatchNormalization\n",
        "from matplotlib import pyplot\n",
        "import matplotlib.pyplot as plt\n",
        "from tensorflow.keras.applications.resnet50 import ResNet50\n",
        "\n",
        "\n",
        "path = '/content/drive/MyDrive/fer2013.csv'\n",
        "df = pd.read_csv(path)\n",
        "df.head()"
      ]
    },
    {
      "cell_type": "code",
      "execution_count": null,
      "metadata": {
        "id": "zoKzPtHKVFsO"
      },
      "outputs": [],
      "source": [
        "data = df.drop('Usage', axis = 1)"
      ]
    },
    {
      "cell_type": "code",
      "execution_count": null,
      "metadata": {
        "id": "hIYHBwwyRWbr"
      },
      "outputs": [],
      "source": [
        "data.pixels = data.pixels.apply(lambda x : list(map(lambda i: int(i), x.split(' '))))"
      ]
    },
    {
      "cell_type": "code",
      "execution_count": null,
      "metadata": {
        "id": "NrivUC0uVdS2"
      },
      "outputs": [],
      "source": [
        "data.pixels = data.pixels.apply(lambda x: np.array(x))"
      ]
    },
    {
      "cell_type": "code",
      "source": [
        "emotions = data['emotion'].value_counts().to_frame().index.tolist()\n",
        "emotion_frequencies=data['emotion'].value_counts().values\n",
        "colors = ['green','blue','purple','yellow','teal','red','brown']\n",
        "plt.bar(emotions, emotion_frequencies, color=colors)\n",
        "plt.title('Distribution of emotions over training data', fontsize=14)\n",
        "plt.xlabel('emotions', fontsize=14)\n",
        "plt.ylabel('frequencies', fontsize=14)\n",
        "plt.show()"
      ],
      "metadata": {
        "colab": {
          "base_uri": "https://localhost:8080/",
          "height": 300
        },
        "id": "MTgHuyxYIF35",
        "outputId": "340fc122-f56d-4f8a-9d6b-5e9702caac7e"
      },
      "execution_count": null,
      "outputs": [
        {
          "output_type": "display_data",
          "data": {
            "image/png": "[encoded data removed]",
            "text/plain": [
              "<Figure size 432x288 with 1 Axes>"
            ]
          },
          "metadata": {
            "needs_background": "light"
          }
        }
      ]
    },
    {
      "cell_type": "code",
      "execution_count": null,
      "metadata": {
        "id": "n6WNBSZhAvyX"
      },
      "outputs": [],
      "source": [
        "def data_augmentation(pic_array, emotion, times):\n",
        "    generated_pics=[]\n",
        "    n_pic = pic_array.reshape((48,48,1))\n",
        "    # expand dimension to one sample\n",
        "    samples = expand_dims(n_pic, 0)\n",
        "    # create image data augmentation generator\n",
        "\n",
        "    # horizontal and vertical shift\n",
        "    datagen1 = ImageDataGenerator(width_shift_range=[-15,15])\n",
        "    datagen2 = ImageDataGenerator(height_shift_range=0.4)\n",
        "    \n",
        "    # horizontal flip\n",
        "    datagen3 = ImageDataGenerator(horizontal_flip=True)\n",
        "    \n",
        "    # random rotation\n",
        "    datagen4 = ImageDataGenerator(rotation_range=90)\n",
        "    \n",
        "    # random zoom \n",
        "    datagen5 = ImageDataGenerator(zoom_range=[0.5,1.0])\n",
        "    \n",
        "\n",
        "    generators = [datagen3,datagen4,datagen5,datagen1,datagen2]\n",
        "    l = []\n",
        "    # prepare iterator\n",
        "    for i in range(len(generators)):\n",
        "      l.append(generators[i].flow(samples, batch_size=1))\n",
        "\n",
        "\n",
        "    it = times % 5\n",
        "    times = times//5 \n",
        "    # generate samples and plot\n",
        "    for i in range(times):\n",
        "        # define subplt\n",
        "        #pyplot.subplot(330 + 1 + i)\n",
        "      for i in range(len(l)):\n",
        "        g = l[i].next()\n",
        "        image = g[0].astype('uint8')\n",
        "        arr = image.reshape((48*48))\n",
        "        generated_pics.append([arr,emotion])\n",
        "        # plot raw pixel data\n",
        "        #print(image5.shape)\n",
        "        #plt.imshow(image5.reshape(48,48), cmap = 'gray')\n",
        "    for i in range(it): \n",
        "      g = l[i].next()\n",
        "      image = g[0].astype('uint8')\n",
        "      arr = image.reshape((48*48))\n",
        "      generated_pics.append([arr,emotion])\n",
        "        \n",
        "    \n",
        "    # show the figure\n",
        "    #pyplot.show()\n",
        "    return generated_pics"
      ]
    },
    {
      "cell_type": "code",
      "execution_count": null,
      "metadata": {
        "id": "F4lLR1keVicQ"
      },
      "outputs": [],
      "source": [
        "\n",
        "# list_data = []\n",
        "# for i in range(0,len(data)):\n",
        "#   list_data.append([data.loc[i]['pixels'], data.loc[i]['emotion']])\n",
        "# shuffle(list_data)\n",
        "\n",
        "\n",
        "list_data = []\n",
        "times_d = {0:2, 1:15, 2:2,3:1,4:1,5:2,6:1}\n",
        "for i in range(0,len(data)):\n",
        "    list_data.append([data.loc[i]['pixels'], data.loc[i]['emotion']])\n",
        "    emotion = data.loc[i]['emotion']\n",
        "    pic_array = data.loc[i]['pixels']\n",
        "    gen_pics = data_augmentation(pic_array, emotion,times_d[emotion])\n",
        "    list_data.extend(gen_pics)\n",
        "    \n",
        "   \n",
        "shuffle(list_data)"
      ]
    },
    {
      "cell_type": "code",
      "source": [
        "emotions = []\n",
        "for i in list_data: \n",
        "  emotions.append(i[1])\n",
        "emotion_frequencies = [0,0,0,0,0,0,0]\n",
        "for i in emotions: \n",
        "  emotion_frequencies[i]+=1\n",
        "print(emotion_frequencies)\n",
        "counts = range(7)"
      ],
      "metadata": {
        "colab": {
          "base_uri": "https://localhost:8080/"
        },
        "id": "HD4_bjJGIayC",
        "outputId": "c20c70a5-7487-41ef-e802-a358e0d80357"
      },
      "execution_count": null,
      "outputs": [
        {
          "output_type": "stream",
          "name": "stdout",
          "text": [
            "[14859, 8752, 15363, 17978, 12154, 12006, 12396]\n"
          ]
        }
      ]
    },
    {
      "cell_type": "code",
      "source": [
        "color = 'black'\n",
        "with plt.rc_context({'axes.edgecolor':color, 'xtick.color':color, 'ytick.color':color}):\n",
        "  colors = ['green','blue','purple','yellow','teal','red','brown']\n",
        "  plt.bar(counts, emotion_frequencies, color=colors)\n",
        "  plt.title('Distribution of emotions over training data', fontsize=14,color = color)\n",
        "  plt.xlabel('emotions', fontsize=14,color = color)\n",
        "  plt.ylabel('frequencies', fontsize=14,color = color)\n",
        "  plt.show()"
      ],
      "metadata": {
        "colab": {
          "base_uri": "https://localhost:8080/",
          "height": 300
        },
        "id": "qQB8BdbwJPMo",
        "outputId": "7348cd18-0995-4877-9666-534bc2aa5161"
      },
      "execution_count": null,
      "outputs": [
        {
          "output_type": "display_data",
          "data": {
            "image/png": "[encoded data removed]",
            "text/plain": [
              "<Figure size 432x288 with 1 Axes>"
            ]
          },
          "metadata": {
            "needs_background": "dark"
          }
        }
      ]
    },
    {
      "cell_type": "code",
      "execution_count": null,
      "metadata": {
        "id": "oqBmtD9wL_VJ"
      },
      "outputs": [],
      "source": [
        "\n",
        "X = np.array([i[0] for i in list_data])\n",
        "X = X.reshape(-1,48,48,1)\n",
        "y = np.array([i[1] for i in list_data])"
      ]
    },
    {
      "cell_type": "code",
      "execution_count": null,
      "metadata": {
        "id": "9ikYIpxbX4F-"
      },
      "outputs": [],
      "source": [
        "\n",
        "X_train,X_test,y_train,y_test = train_test_split(X, y, train_size=0.8)\n",
        "\n",
        "y_train = np_utils.to_categorical(y_train)"
      ]
    },
    {
      "cell_type": "markdown",
      "source": [
        "# Functions to Test the Model"
      ],
      "metadata": {
        "id": "WX9z6K-aWRux"
      }
    },
    {
      "cell_type": "code",
      "execution_count": null,
      "metadata": {
        "id": "uY_YokH1bYap"
      },
      "outputs": [],
      "source": [
        "def getAccuracy(X_test,y_test):\n",
        "  y_pred_vec = model.predict(X_test)\n",
        "  y_pred = np.argmax(y_pred_vec, axis = 1)\n",
        "  return accuracy_score(y_test, y_pred)"
      ]
    },
    {
      "cell_type": "code",
      "execution_count": null,
      "metadata": {
        "id": "dxrhFb7myheE"
      },
      "outputs": [],
      "source": [
        "def plotAccuracy(train_acc,val_acc,color,ep): \n",
        "  epochs=range(1,ep+1)\n",
        "  with plt.rc_context({'axes.edgecolor':color, 'xtick.color':color, 'ytick.color':color}):\n",
        "    plt.plot(epochs,train_acc,label=\"Train Accuracy\")\n",
        "    plt.plot(epochs,val_acc,label=\"Validation Accuracy\")\n",
        "    plt.title(\"Accuracy vs Epochs\", color = color)\n",
        "    plt.xlabel(\"Epochs\", color = color)\n",
        "    plt.ylabel(\"Accuracy\", color = color)\n",
        "    plt.legend()\n",
        "    plt.show()"
      ]
    },
    {
      "cell_type": "code",
      "source": [
        "def plotLoss(train_loss,val_loss,color,ep):\n",
        "  epochs=range(1,ep+1)\n",
        "\n",
        "  with plt.rc_context({'axes.edgecolor':color, 'xtick.color':color, 'ytick.color':color}):\n",
        "    plt.plot(epochs,train_loss,label=\"Train Loss\")\n",
        "    plt.plot(epochs,val_loss,label=\"Validation Loss\")\n",
        "    plt.title(\"Loss vs Epochs\", color = color)\n",
        "    plt.xlabel(\"Epochs\", color = color)\n",
        "    plt.ylabel(\"Loss\", color = color)\n",
        "    plt.legend()\n",
        "    plt.show()"
      ],
      "metadata": {
        "id": "MIQIOGUSb4Oc"
      },
      "execution_count": null,
      "outputs": []
    },
    {
      "cell_type": "code",
      "source": [
        "def evaluate(X_test,actual,model):\n",
        "    y_pred_vec = model.predict(X_test)\n",
        "    pred = np.argmax(y_pred_vec, axis = 1)\n",
        "    cm=confusion_matrix(pred,actual)\n",
        "    fig, ax = plot_confusion_matrix(conf_mat=cm, cmap=plt.cm.OrRd)\n",
        "    plt.xlabel('Predictions')\n",
        "    plt.ylabel('Actuals')\n",
        "    plt.title('Confusion Matrix')\n",
        "    \n",
        "    f1=f1_score(pred,actual,average='weighted')\n",
        "    cr=classification_report(actual, pred, output_dict= True)\n",
        "    accuracy = cr['accuracy']\n",
        "    del cr['accuracy']\n",
        "    cr_df = pd.DataFrame(cr).transpose()\n",
        "    plt.show() \n",
        "    print(\"F1 Score :\",f1)\n",
        "    print(\"Classification Report\")\n",
        "    print(cr_df)"
      ],
      "metadata": {
        "id": "v7c1TS_RCVX6"
      },
      "execution_count": null,
      "outputs": []
    },
    {
      "cell_type": "markdown",
      "metadata": {
        "id": "QFqmHxDhe5Xk"
      },
      "source": [
        "#DropOut "
      ]
    },
    {
      "cell_type": "code",
      "execution_count": null,
      "metadata": {
        "colab": {
          "base_uri": "https://localhost:8080/"
        },
        "id": "e2reUfxgX7Lq",
        "outputId": "0cb88aa5-d14d-431c-e6db-c75f8ddace66"
      },
      "outputs": [
        {
          "output_type": "stream",
          "name": "stdout",
          "text": [
            "Model: \"sequential\"\n",
            "_________________________________________________________________\n",
            " Layer (type)                Output Shape              Param #   \n",
            "=================================================================\n",
            " conv2d (Conv2D)             (None, 48, 48, 32)        320       \n",
            "                                                                 \n",
            " conv2d_1 (Conv2D)           (None, 48, 48, 64)        18496     \n",
            "                                                                 \n",
            " max_pooling2d (MaxPooling2D  (None, 24, 24, 64)       0         \n",
            " )                                                               \n",
            "                                                                 \n",
            " dropout (Dropout)           (None, 24, 24, 64)        0         \n",
            "                                                                 \n",
            " conv2d_2 (Conv2D)           (None, 24, 24, 128)       73856     \n",
            "                                                                 \n",
            " max_pooling2d_1 (MaxPooling  (None, 12, 12, 128)      0         \n",
            " 2D)                                                             \n",
            "                                                                 \n",
            " dropout_1 (Dropout)         (None, 12, 12, 128)       0         \n",
            "                                                                 \n",
            " conv2d_3 (Conv2D)           (None, 12, 12, 256)       295168    \n",
            "                                                                 \n",
            " max_pooling2d_2 (MaxPooling  (None, 6, 6, 256)        0         \n",
            " 2D)                                                             \n",
            "                                                                 \n",
            " dropout_2 (Dropout)         (None, 6, 6, 256)         0         \n",
            "                                                                 \n",
            " conv2d_4 (Conv2D)           (None, 6, 6, 512)         1180160   \n",
            "                                                                 \n",
            " max_pooling2d_3 (MaxPooling  (None, 3, 3, 512)        0         \n",
            " 2D)                                                             \n",
            "                                                                 \n",
            " dropout_3 (Dropout)         (None, 3, 3, 512)         0         \n",
            "                                                                 \n",
            " flatten (Flatten)           (None, 4608)              0         \n",
            "                                                                 \n",
            " dense (Dense)               (None, 1024)              4719616   \n",
            "                                                                 \n",
            " dense_1 (Dense)             (None, 256)               262400    \n",
            "                                                                 \n",
            " dense_2 (Dense)             (None, 7)                 1799      \n",
            "                                                                 \n",
            "=================================================================\n",
            "Total params: 6,551,815\n",
            "Trainable params: 6,551,815\n",
            "Non-trainable params: 0\n",
            "_________________________________________________________________\n"
          ]
        }
      ],
      "source": [
        "model = keras.Sequential()\n",
        "output_layers = [Conv2D(32, 3,activation='relu', padding ='same', input_shape=(48,48,1)),\n",
        "                 Conv2D(64, 3, activation='relu', padding ='same'),MaxPooling2D(2, padding ='same'),Dropout(0.5),\n",
        "                 Conv2D(128, 3, activation='relu', padding ='same'),MaxPooling2D(2, padding ='same'),Dropout(0.5),\n",
        "                 Conv2D(256, 3, activation='relu', padding ='same'),MaxPooling2D(2, padding ='same'),Dropout(0.5),\n",
        "                 Conv2D(512, 3, activation='relu', padding ='same'),MaxPooling2D(2, padding ='same'),Dropout(0.5),\n",
        "                 Flatten(),Dense(1024, activation = 'relu'),Dense(256, activation = 'relu'),Dense(7, activation = 'softmax')]\n",
        "]\n",
        "for i in output_layers:\n",
        "  model.add(i)\n",
        "model.summary()"
      ]
    },
    {
      "cell_type": "code",
      "execution_count": null,
      "metadata": {
        "colab": {
          "base_uri": "https://localhost:8080/"
        },
        "id": "y0zeLLkOtM3z",
        "outputId": "12d0ef5e-7fd4-44b0-8d09-7f286d7dcdad"
      },
      "outputs": [
        {
          "output_type": "stream",
          "name": "stdout",
          "text": [
            "Epoch 1/5\n",
            "936/936 [==============================] - 65s 69ms/step - loss: 1.0213 - accuracy: 0.6193 - val_loss: 1.0123 - val_accuracy: 0.6213\n",
            "Epoch 2/5\n",
            "936/936 [==============================] - 64s 68ms/step - loss: 1.0169 - accuracy: 0.6186 - val_loss: 1.0056 - val_accuracy: 0.6221\n",
            "Epoch 3/5\n",
            "936/936 [==============================] - 64s 68ms/step - loss: 1.0085 - accuracy: 0.6237 - val_loss: 1.0414 - val_accuracy: 0.6187\n",
            "Epoch 4/5\n",
            "936/936 [==============================] - 63s 68ms/step - loss: 1.0254 - accuracy: 0.6186 - val_loss: 1.0469 - val_accuracy: 0.6074\n",
            "Epoch 5/5\n",
            "936/936 [==============================] - 64s 69ms/step - loss: 0.9897 - accuracy: 0.6311 - val_loss: 1.0339 - val_accuracy: 0.6113\n"
          ]
        }
      ],
      "source": [
        "model.compile(loss='categorical_crossentropy', optimizer = 'adam', metrics=['accuracy'])\n",
        "epochs = 55\n",
        "l=model.fit(X_train, y_train, epochs = epochs, batch_size= 64,validation_split=0.2)"
      ]
    },
    {
      "cell_type": "code",
      "source": [
        "acc = getAccuracy(X_test,y_test)\n",
        "color = 'black'\n",
        "print(acc)\n",
        "plotAccuracy(l.history['accuracy'],l.history['val_accuracy'],color,epochs)\n",
        "plotLoss(l.history['loss'],l.history['val_loss'],color,epochs)\n",
        "evaluate(X_test ,y_test,model)"
      ],
      "metadata": {
        "colab": {
          "base_uri": "https://localhost:8080/",
          "height": 514
        },
        "id": "GuYUh7xLWbrt",
        "outputId": "1b4b1977-a383-42df-b459-9b454ae4d62c"
      },
      "execution_count": null,
      "outputs": [
        {
          "output_type": "display_data",
          "data": {
            "image/png": "[encoded data removed]",
            "text/plain": [
              "<Figure size 432x288 with 1 Axes>"
            ]
          },
          "metadata": {
            "needs_background": "light"
          }
        },
        {
          "output_type": "stream",
          "name": "stdout",
          "text": [
            "F1 Score : 0.6656882635436148\n",
            "Classification Report\n",
            "              precision    recall  f1-score  support\n",
            "0              0.626575  0.540514  0.580371   1012.0\n",
            "1              0.528796  0.878261  0.660131    115.0\n",
            "2              0.556974  0.551556  0.554252   1028.0\n",
            "3              0.802847  0.876295  0.837964   1738.0\n",
            "4              0.663415  0.447001  0.534119   1217.0\n",
            "5              0.867669  0.704518  0.777628    819.0\n",
            "6              0.522754  0.717374  0.604792   1249.0\n",
            "macro avg      0.652718  0.673645  0.649894   7178.0\n",
            "weighted avg   0.673410  0.662441  0.659193   7178.0\n"
          ]
        }
      ]
    },
    {
      "cell_type": "markdown",
      "source": [
        "#Tranfer Learning"
      ],
      "metadata": {
        "id": "ASnS0fIiUMMm"
      }
    },
    {
      "cell_type": "code",
      "source": [
        "X = np.array([i[0] for i in list_data])\n",
        "y = np.array([i[1] for i in list_data])\n",
        "X=np.array([[i,i,i] for i in X])\n",
        "X = X.reshape(-1,48,48,3)\n",
        "X_train,X_test,y_train,y_test = train_test_split(X, y, train_size=0.8)\n",
        "\n",
        "y_train = np_utils.to_categorical(y_train)"
      ],
      "metadata": {
        "id": "Q4cgA3yST-5q"
      },
      "execution_count": null,
      "outputs": []
    },
    {
      "cell_type": "code",
      "source": [
        "\n",
        "model = keras.Sequential()\n",
        "res50model = ResNet50(include_top = False, input_shape=(48,48,3),classes = 7 ,weights='imagenet')\n",
        "output_layers = [Flatten(),Dense(128, activation = 'relu'),Dense(32, activation = 'relu'),Dense(7, activation = 'softmax')]\n",
        "model.add(res50model)\n",
        "for i in output_layers:\n",
        "  model.add(i)\n",
        "model.summary()"
      ],
      "metadata": {
        "id": "lT5AJ4uTS6Of"
      },
      "execution_count": null,
      "outputs": []
    },
    {
      "cell_type": "code",
      "source": [
        "model.compile(loss='categorical_crossentropy', optimizer = 'adam', metrics=['accuracy'])\n",
        "epochs = 25\n",
        "l=model.fit(X_train, y_train, epochs = epochs, batch_size= 64,validation_split=0.2)"
      ],
      "metadata": {
        "id": "aCeNy9V6TovY"
      },
      "execution_count": null,
      "outputs": []
    },
    {
      "cell_type": "code",
      "source": [
        "acc = getAccuracy(X_test,y_test)\n",
        "color = 'black'\n",
        "print(acc)\n",
        "plotAccuracy(l.history['accuracy'],l.history['val_accuracy'],color,epochs)\n",
        "plotLoss(l.history['loss'],l.history['val_loss'],color,epochs)\n",
        "evaluate(X_test ,y_test,model)"
      ],
      "metadata": {
        "id": "Y1sNatqiXIBP"
      },
      "execution_count": null,
      "outputs": []
    },
    {
      "cell_type": "markdown",
      "source": [
        "#Batch Norm"
      ],
      "metadata": {
        "id": "TpFcg9swBPAD"
      }
    },
    {
      "cell_type": "code",
      "execution_count": null,
      "metadata": {
        "id": "REWUjVIdfDyB"
      },
      "outputs": [],
      "source": [
        "model = keras.Sequential()\n",
        "output_layers = [Conv2D(32, 3,activation='relu', padding ='same', input_shape=(48,48,1)),Conv2D(64, 3, activation='relu', padding ='same'),MaxPooling2D(2, padding ='same'),BatchNormalization(),\n",
        "                 Conv2D(128, 3, activation='relu', padding ='same'),MaxPooling2D(2, padding ='same'),BatchNormalization(),\n",
        "                 Conv2D(256, 3, activation='relu', padding ='same'),MaxPooling2D(2, padding ='same'),BatchNormalization(),\n",
        "                 Conv2D(512, 3, activation='relu', padding ='same'),MaxPooling2D(2, padding ='same'),BatchNormalization(),\n",
        "                 Flatten(),Dense(1024, activation = 'relu'),Dense(256, activation = 'relu'),Dense(7, activation = 'softmax')]\n",
        "# model.add(res50model)\n",
        "for i in output_layers:\n",
        "  model.add(i)\n",
        "model.summary()\n"
      ]
    },
    {
      "cell_type": "code",
      "execution_count": null,
      "metadata": {
        "id": "uxsanqlZfHCD"
      },
      "outputs": [],
      "source": [
        "y_pred_vec = model.predict(X_test)\n",
        "y_pred = np.argmax(y_pred_vec, axis = 1)\n",
        "accuracy_score(y_test, y_pred)"
      ]
    }
  ],
  "metadata": {
    "accelerator": "GPU",
    "colab": {
      "collapsed_sections": [],
      "name": "ML-Project.ipynb",
      "provenance": []
    },
    "kernelspec": {
      "display_name": "Python 3",
      "name": "python3"
    },
    "language_info": {
      "name": "python"
    }
  },
  "nbformat": 4,
  "nbformat_minor": 0
}